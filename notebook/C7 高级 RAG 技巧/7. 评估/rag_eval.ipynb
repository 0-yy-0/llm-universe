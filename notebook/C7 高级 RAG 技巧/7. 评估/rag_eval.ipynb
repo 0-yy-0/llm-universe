{
 "cells": [
  {
   "cell_type": "markdown",
   "metadata": {},
   "source": [
    "# 基础准备工作"
   ]
  },
  {
   "cell_type": "code",
   "execution_count": null,
   "metadata": {},
   "outputs": [],
   "source": [
    "# 1. 在cmd中，依次执行以下两行命令，创建并激活Python环境\n",
    "\n",
    "# 使用canda创建新的Python环境\n",
    "conda create -n rag_eval python=3.10\n",
    "\n",
    "# 使用canda激活刚建的Python环境\n",
    "conda activate rag_eval"
   ]
  },
  {
   "cell_type": "code",
   "execution_count": null,
   "metadata": {},
   "outputs": [],
   "source": [
    "# 2. 安装项目的依赖包\n",
    "\n",
    "pip install -r requirements.txt"
   ]
  },
  {
   "cell_type": "code",
   "execution_count": null,
   "metadata": {},
   "outputs": [],
   "source": [
    "# 3. 添加jupyter notebook内核，添加完毕后，重启jupyter notebook\n",
    "\n",
    "python -m ipykernel install --user --name=rag_eval"
   ]
  },
  {
   "cell_type": "code",
   "execution_count": null,
   "metadata": {},
   "outputs": [],
   "source": [
    "# 4. 下载m3e-base向量模型到本地（共1.52GB，暂不支持API调用向量模型）\n",
    "# 参考魔搭社区：https://www.modelscope.cn/models/xrunda/m3e-base/files\n",
    "\n",
    "git lfs install\n",
    "git clone https://www.modelscope.cn/xrunda/m3e-base.git"
   ]
  },
  {
   "cell_type": "code",
   "execution_count": null,
   "metadata": {},
   "outputs": [],
   "source": [
    "# 5. 申请并创建智谱AI的接口\n",
    "\n",
    "参考基础教程，具体路径：C2 使用 LLM API 开发应用==>2. 使用 LLM API.ipynb==>4. 使用智谱 GLM"
   ]
  },
  {
   "cell_type": "code",
   "execution_count": null,
   "metadata": {},
   "outputs": [],
   "source": [
    "# 6. 添加配置文件\n",
    "\n",
    "在项目文件夹的.env文件中填入申请的ZHIPUAI_API_KEY"
   ]
  },
  {
   "cell_type": "code",
   "execution_count": 1,
   "metadata": {},
   "outputs": [],
   "source": [
    "# 7. 读取配置文件，加载环境变量\n",
    "\n",
    "import os\n",
    "from dotenv import load_dotenv, find_dotenv\n",
    "\n",
    "# 读取本地/项目的环境变量。\n",
    "# find_dotenv() 寻找并定位 .env 文件的路径\n",
    "# load_dotenv() 读取该 .env 文件，并将其中的环境变量加载到当前的运行环境中  \n",
    "_ = load_dotenv(find_dotenv())\n",
    "\n",
    "assert os.environ[\"ZHIPUAI_API_KEY\"] != \"\", \"未填写ZHIPUAI_API_KEY\""
   ]
  },
  {
   "cell_type": "code",
   "execution_count": 2,
   "metadata": {},
   "outputs": [],
   "source": [
    "# 8. 加载样例知识库文件\n",
    "\n",
    "from llama_index.core import SimpleDirectoryReader\n",
    "\n",
    "documents = SimpleDirectoryReader(input_files=[\"eBook-How-to-Build-a-Career-in-AI.pdf\"]).load_data()"
   ]
  },
  {
   "cell_type": "code",
   "execution_count": 3,
   "metadata": {},
   "outputs": [
    {
     "name": "stdout",
     "output_type": "stream",
     "text": [
      "<class 'list'> \n",
      "\n",
      "41 \n",
      "\n",
      "<class 'llama_index.core.schema.Document'> \n",
      "\n",
      "Doc ID: f8b4fd64-0363-4595-8553-518c9d552263\n",
      "Text: PAGE 1Founder, DeepLearning.AICollected Insights from Andrew Ng\n",
      "How to  Build Your Career in AIA Simple Guide\n"
     ]
    }
   ],
   "source": [
    "# 9. 查看知识库文件解析内容\n",
    "\n",
    "print(type(documents), \"\\n\")\n",
    "print(len(documents), \"\\n\")\n",
    "print(type(documents[0]), \"\\n\")\n",
    "print(documents[0])"
   ]
  },
  {
   "cell_type": "markdown",
   "metadata": {},
   "source": [
    "# 完整的RAG流程"
   ]
  },
  {
   "cell_type": "code",
   "execution_count": 4,
   "metadata": {},
   "outputs": [],
   "source": [
    "# 1. 合并数据集，提取纯文本，便于后续使用\n",
    "\n",
    "from llama_index.core import Document\n",
    "\n",
    "document = Document(text=\"\\n\\n\".join(doc.text for doc in documents))"
   ]
  },
  {
   "cell_type": "code",
   "execution_count": 5,
   "metadata": {},
   "outputs": [],
   "source": [
    "# 2. 定义模型接口，参考官网教程：https://open.bigmodel.cn/dev/api/thirdparty-frame/langchain-sdk\n",
    "\n",
    "from llama_index.core import VectorStoreIndex, ServiceContext, StorageContext, load_index_from_storage, Settings\n",
    "from llama_index.embeddings.huggingface import HuggingFaceEmbedding\n",
    "from langchain_openai import ChatOpenAI\n",
    "\n",
    "llm = ChatOpenAI(\n",
    "    temperature=0.01,\n",
    "    model=\"glm-3-turbo\",\n",
    "    openai_api_key=os.environ[\"ZHIPUAI_API_KEY\"],\n",
    "    openai_api_base=\"https://open.bigmodel.cn/api/paas/v4\"\n",
    ")"
   ]
  },
  {
   "cell_type": "code",
   "execution_count": 6,
   "metadata": {},
   "outputs": [
    {
     "name": "stderr",
     "output_type": "stream",
     "text": [
      "C:\\Users\\fr\\AppData\\Local\\Temp\\ipykernel_3444\\3042272740.py:3: DeprecationWarning: Call to deprecated class method from_defaults. (ServiceContext is deprecated, please use `llama_index.settings.Settings` instead.) -- Deprecated since version 0.10.0.\n",
      "  service_context = ServiceContext.from_defaults(llm=llm, embed_model=\"local:./m3e-base/\")\n",
      "D:\\workplace\\Anaconda3\\envs\\rag_eval\\lib\\site-packages\\langchain_core\\_api\\deprecation.py:119: LangChainDeprecationWarning: The method `BaseChatModel.predict_messages` was deprecated in langchain-core 0.1.7 and will be removed in 0.3.0. Use invoke instead.\n",
      "  warn_deprecated(\n"
     ]
    },
    {
     "name": "stdout",
     "output_type": "stream",
     "text": [
      "To find projects that will build your experience, start by joining existing projects where you can contribute and learn. Engage in continuous reading, take courses, and discuss ideas with domain experts to generate new project ideas. Focus on application areas where machine learning has not yet been extensively applied. Develop side hustles or projects that can stir your creative juices and potentially lead to bigger opportunities. Look for projects that can help you grow technically, have good teammates, and can serve as stepping stones to larger projects. When presented with project ideas, consider factors such as cost of execution and the need for prior study. Adopt a collaborative approach to tackle large projects and work on developing your interpersonal and communication skills. Build a professional network and consider alternative approaches like community building instead of traditional networking. Remember that finding a job is just one step in your career journey. Cultivate personal discipline and maintain healthy habits. Strive to help others while building your career for better outcomes.\n"
     ]
    }
   ],
   "source": [
    "# 3. 定义并验证向量模型查询引擎，其中embed_model配置向量模型的实际存储位置\n",
    "\n",
    "service_context = ServiceContext.from_defaults(llm=llm, embed_model=\"local:./m3e-base/\")\n",
    "\n",
    "index = VectorStoreIndex.from_documents([document], service_context=service_context)\n",
    "\n",
    "query_engine = index.as_query_engine() \n",
    "\n",
    "response = query_engine.query(\"What are steps to take when finding projects to build your experience?\") \n",
    "\n",
    "# 如果有正常输出，表明基本RAG环境可以正常运行\n",
    "print(str(response))"
   ]
  },
  {
   "cell_type": "markdown",
   "metadata": {},
   "source": [
    "# 配置使用TruLens"
   ]
  },
  {
   "cell_type": "code",
   "execution_count": 7,
   "metadata": {},
   "outputs": [
    {
     "name": "stdout",
     "output_type": "stream",
     "text": [
      "What are the keys to building a career in AI?\n",
      "How can teamwork contribute to success in AI?\n",
      "What is the importance of networking in AI?\n",
      "What are some good habits to develop for a successful career?\n",
      "How can altruism be beneficial in building a career?\n",
      "What is imposter syndrome and how does it relate to AI?\n",
      "Who are some accomplished individuals who have experienced imposter syndrome?\n",
      "What is the first step to becoming good at AI?\n",
      "What are some common challenges in AI?\n",
      "Is it normal to find parts of AI challenging?\n"
     ]
    }
   ],
   "source": [
    "# 1. 准备验证测试问题，提前在eval_questions.txt文件中添加问题，一行表示一个问题\n",
    "\n",
    "eval_questions = []\n",
    "with open('eval_questions.txt', 'r') as file:\n",
    "    for line in file:\n",
    "        item = line.strip()\n",
    "        eval_questions.append(item)\n",
    "        print(item)"
   ]
  },
  {
   "cell_type": "code",
   "execution_count": 8,
   "metadata": {},
   "outputs": [
    {
     "name": "stdout",
     "output_type": "stream",
     "text": [
      "✅ In Answer Relevance, input prompt will be set to __record__.main_input or `Select.RecordInput` .\n",
      "✅ In Answer Relevance, input response will be set to __record__.main_output or `Select.RecordOutput` .\n",
      "✅ In Context Relevance, input prompt will be set to __record__.main_input or `Select.RecordInput` .\n",
      "✅ In Context Relevance, input response will be set to __record__.app.query.rets.source_nodes[:].node.text .\n",
      "✅ In Groundedness, input source will be set to __record__.app.query.rets.source_nodes[:].node.text .\n",
      "✅ In Groundedness, input statement will be set to __record__.main_output or `Select.RecordOutput` .\n",
      "🦑 Tru initialized with db url sqlite:///default.sqlite .\n",
      "🛑 Secret keys may be written to the database. See the `database_redact_keys` option of `Tru` to prevent this.\n"
     ]
    }
   ],
   "source": [
    "# 2. Tru初始化，如果提示nltk下载失败，一般是网络问题\n",
    "# 解决办法是将项目路径下的 nltk_cache.zip 解压到Python环境的 llama_index 目录中\n",
    "# 例如：Anaconda的安装路径为：D:\\Anaconda3，则解压到D:\\Anaconda3\\envs\\rag_eval\\Lib\\site-packages\\llama_index\\legacy\\_static\n",
    "\n",
    "from utils import get_prebuilt_trulens_recorder\n",
    "from trulens_eval import Tru\n",
    "tru = Tru()"
   ]
  },
  {
   "cell_type": "code",
   "execution_count": 9,
   "metadata": {},
   "outputs": [],
   "source": [
    "# 3.重置Tru的统计数据库\n",
    "\n",
    "tru.reset_database()\n",
    "tru_recorder = get_prebuilt_trulens_recorder(query_engine, app_id=\"Direct Query Engine\")"
   ]
  },
  {
   "cell_type": "code",
   "execution_count": 10,
   "metadata": {},
   "outputs": [
    {
     "name": "stdout",
     "output_type": "stream",
     "text": [
      "What are the keys to building a career in AI? --> The keys to building a career in AI include learning foundational technical skills, working on projects to deepen those skills, building a portfolio to showcase progress, and using a framework for starting an AI job search. Additionally, overcoming imposter syndrome and making every day count are important aspects of a successful AI career. \n",
      "\n"
     ]
    },
    {
     "name": "stderr",
     "output_type": "stream",
     "text": [
      "D:\\workplace\\Anaconda3\\envs\\rag_eval\\lib\\site-packages\\langchain_core\\_api\\deprecation.py:119: LangChainDeprecationWarning: The method `BaseChatModel.predict` was deprecated in langchain-core 0.1.7 and will be removed in 0.3.0. Use invoke instead.\n",
      "  warn_deprecated(\n"
     ]
    },
    {
     "name": "stdout",
     "output_type": "stream",
     "text": [
      "How can teamwork contribute to success in AI? --> Teamwork contributes to success in AI by enabling the pooling of diverse skills and knowledge. It allows for the specialization of tasks, with each team member focusing on their area of expertise, which can lead to more efficient problem-solving and innovation. Collaboration also facilitates the exchange of ideas, leading to the exploration of new approaches and the improvement of existing solutions. Additionally, teamwork provides support and accountability, helping to maintain momentum and overcome challenges throughout the project lifecycle. \n",
      "\n",
      "What is the importance of networking in AI? --> Networking is crucial in AI as it enables the exchange of ideas, knowledge, and resources among professionals. It helps in building relationships with peers, mentors, and industry experts, who can provide guidance, support, and collaboration opportunities. Networking also allows individuals to stay updated with the latest trends, research, and best practices in AI. Additionally, it facilitates the identification and access to potential projects, thereby enhancing career development in the field. \n",
      "\n"
     ]
    }
   ],
   "source": [
    "# 4. 开始评估，自动记录评估指标，为了快速跑通流程，可以仅使用部分测试问题验证\n",
    "\n",
    "with tru_recorder as recording:\n",
    "    for question in eval_questions[:3]:\n",
    "        response = query_engine.query(question)\n",
    "        print(question, \"-->\", str(response), \"\\n\")"
   ]
  },
  {
   "cell_type": "markdown",
   "metadata": {},
   "source": [
    "# 预览评估结果"
   ]
  },
  {
   "cell_type": "code",
   "execution_count": 11,
   "metadata": {},
   "outputs": [
    {
     "data": {
      "text/html": [
       "<div>\n",
       "<style scoped>\n",
       "    .dataframe tbody tr th:only-of-type {\n",
       "        vertical-align: middle;\n",
       "    }\n",
       "\n",
       "    .dataframe tbody tr th {\n",
       "        vertical-align: top;\n",
       "    }\n",
       "\n",
       "    .dataframe thead th {\n",
       "        text-align: right;\n",
       "    }\n",
       "</style>\n",
       "<table border=\"1\" class=\"dataframe\">\n",
       "  <thead>\n",
       "    <tr style=\"text-align: right;\">\n",
       "      <th></th>\n",
       "      <th>Context Relevance</th>\n",
       "      <th>Groundedness</th>\n",
       "      <th>Answer Relevance</th>\n",
       "      <th>latency</th>\n",
       "      <th>total_cost</th>\n",
       "    </tr>\n",
       "    <tr>\n",
       "      <th>app_id</th>\n",
       "      <th></th>\n",
       "      <th></th>\n",
       "      <th></th>\n",
       "      <th></th>\n",
       "      <th></th>\n",
       "    </tr>\n",
       "  </thead>\n",
       "  <tbody>\n",
       "    <tr>\n",
       "      <th>Direct Query Engine</th>\n",
       "      <td>0.7</td>\n",
       "      <td>0.8</td>\n",
       "      <td>1.0</td>\n",
       "      <td>10.0</td>\n",
       "      <td>0.0</td>\n",
       "    </tr>\n",
       "  </tbody>\n",
       "</table>\n",
       "</div>"
      ],
      "text/plain": [
       "                     Context Relevance  Groundedness  Answer Relevance  \\\n",
       "app_id                                                                   \n",
       "Direct Query Engine                0.7           0.8               1.0   \n",
       "\n",
       "                     latency  total_cost  \n",
       "app_id                                    \n",
       "Direct Query Engine     10.0         0.0  "
      ]
     },
     "execution_count": 11,
     "metadata": {},
     "output_type": "execute_result"
    }
   ],
   "source": [
    "tru.get_leaderboard(app_ids=[])"
   ]
  },
  {
   "cell_type": "code",
   "execution_count": 12,
   "metadata": {},
   "outputs": [],
   "source": [
    "records, feedback = tru.get_records_and_feedback(app_ids=[])"
   ]
  },
  {
   "cell_type": "code",
   "execution_count": 13,
   "metadata": {},
   "outputs": [
    {
     "data": {
      "text/html": [
       "<div>\n",
       "<style scoped>\n",
       "    .dataframe tbody tr th:only-of-type {\n",
       "        vertical-align: middle;\n",
       "    }\n",
       "\n",
       "    .dataframe tbody tr th {\n",
       "        vertical-align: top;\n",
       "    }\n",
       "\n",
       "    .dataframe thead th {\n",
       "        text-align: right;\n",
       "    }\n",
       "</style>\n",
       "<table border=\"1\" class=\"dataframe\">\n",
       "  <thead>\n",
       "    <tr style=\"text-align: right;\">\n",
       "      <th></th>\n",
       "      <th>app_id</th>\n",
       "      <th>app_json</th>\n",
       "      <th>type</th>\n",
       "      <th>record_id</th>\n",
       "      <th>input</th>\n",
       "      <th>output</th>\n",
       "      <th>tags</th>\n",
       "      <th>record_json</th>\n",
       "      <th>cost_json</th>\n",
       "      <th>perf_json</th>\n",
       "      <th>ts</th>\n",
       "      <th>Answer Relevance</th>\n",
       "      <th>Context Relevance</th>\n",
       "      <th>Groundedness</th>\n",
       "      <th>Answer Relevance_calls</th>\n",
       "      <th>Context Relevance_calls</th>\n",
       "      <th>Groundedness_calls</th>\n",
       "      <th>latency</th>\n",
       "      <th>total_tokens</th>\n",
       "      <th>total_cost</th>\n",
       "    </tr>\n",
       "  </thead>\n",
       "  <tbody>\n",
       "    <tr>\n",
       "      <th>0</th>\n",
       "      <td>Direct Query Engine</td>\n",
       "      <td>{\"tru_class_info\": {\"name\": \"TruLlama\", \"modul...</td>\n",
       "      <td>RetrieverQueryEngine(llama_index.core.query_en...</td>\n",
       "      <td>record_hash_76ebc30902ecff6cbd53c2b83d89e7a4</td>\n",
       "      <td>\"What are the keys to building a career in AI?\"</td>\n",
       "      <td>\"The keys to building a career in AI include l...</td>\n",
       "      <td>-</td>\n",
       "      <td>{\"record_id\": \"record_hash_76ebc30902ecff6cbd5...</td>\n",
       "      <td>{\"n_requests\": 1, \"n_successful_requests\": 1, ...</td>\n",
       "      <td>{\"start_time\": \"2025-01-10T21:43:52.893627\", \"...</td>\n",
       "      <td>2025-01-10T21:44:02.931425</td>\n",
       "      <td>1.0</td>\n",
       "      <td>0.7</td>\n",
       "      <td>1.0</td>\n",
       "      <td>[{'args': {'prompt': 'What are the keys to bui...</td>\n",
       "      <td>[{'args': {'prompt': 'What are the keys to bui...</td>\n",
       "      <td>[{'args': {'source': 'PAGE 1Founder, DeepLearn...</td>\n",
       "      <td>10</td>\n",
       "      <td>2492</td>\n",
       "      <td>0.0</td>\n",
       "    </tr>\n",
       "    <tr>\n",
       "      <th>1</th>\n",
       "      <td>Direct Query Engine</td>\n",
       "      <td>{\"tru_class_info\": {\"name\": \"TruLlama\", \"modul...</td>\n",
       "      <td>RetrieverQueryEngine(llama_index.core.query_en...</td>\n",
       "      <td>record_hash_175e38d7adeb5be9c2f25fd242cefe24</td>\n",
       "      <td>\"How can teamwork contribute to success in AI?\"</td>\n",
       "      <td>\"Teamwork contributes to success in AI by enab...</td>\n",
       "      <td>-</td>\n",
       "      <td>{\"record_id\": \"record_hash_175e38d7adeb5be9c2f...</td>\n",
       "      <td>{\"n_requests\": 1, \"n_successful_requests\": 1, ...</td>\n",
       "      <td>{\"start_time\": \"2025-01-10T21:44:03.707803\", \"...</td>\n",
       "      <td>2025-01-10T21:44:13.770304</td>\n",
       "      <td>1.0</td>\n",
       "      <td>0.7</td>\n",
       "      <td>0.6</td>\n",
       "      <td>[{'args': {'prompt': 'How can teamwork contrib...</td>\n",
       "      <td>[{'args': {'prompt': 'How can teamwork contrib...</td>\n",
       "      <td>[{'args': {'source': 'Class projects:\n",
       "3. Creat...</td>\n",
       "      <td>10</td>\n",
       "      <td>2392</td>\n",
       "      <td>0.0</td>\n",
       "    </tr>\n",
       "    <tr>\n",
       "      <th>2</th>\n",
       "      <td>Direct Query Engine</td>\n",
       "      <td>{\"tru_class_info\": {\"name\": \"TruLlama\", \"modul...</td>\n",
       "      <td>RetrieverQueryEngine(llama_index.core.query_en...</td>\n",
       "      <td>record_hash_978c82540e9ce0a2f773943286489dcc</td>\n",
       "      <td>\"What is the importance of networking in AI?\"</td>\n",
       "      <td>\"Networking is crucial in AI as it enables the...</td>\n",
       "      <td>-</td>\n",
       "      <td>{\"record_id\": \"record_hash_978c82540e9ce0a2f77...</td>\n",
       "      <td>{\"n_requests\": 1, \"n_successful_requests\": 1, ...</td>\n",
       "      <td>{\"start_time\": \"2025-01-10T21:44:14.528838\", \"...</td>\n",
       "      <td>2025-01-10T21:44:24.615395</td>\n",
       "      <td>NaN</td>\n",
       "      <td>NaN</td>\n",
       "      <td>NaN</td>\n",
       "      <td>NaN</td>\n",
       "      <td>NaN</td>\n",
       "      <td>NaN</td>\n",
       "      <td>10</td>\n",
       "      <td>2447</td>\n",
       "      <td>0.0</td>\n",
       "    </tr>\n",
       "  </tbody>\n",
       "</table>\n",
       "</div>"
      ],
      "text/plain": [
       "                app_id                                           app_json  \\\n",
       "0  Direct Query Engine  {\"tru_class_info\": {\"name\": \"TruLlama\", \"modul...   \n",
       "1  Direct Query Engine  {\"tru_class_info\": {\"name\": \"TruLlama\", \"modul...   \n",
       "2  Direct Query Engine  {\"tru_class_info\": {\"name\": \"TruLlama\", \"modul...   \n",
       "\n",
       "                                                type  \\\n",
       "0  RetrieverQueryEngine(llama_index.core.query_en...   \n",
       "1  RetrieverQueryEngine(llama_index.core.query_en...   \n",
       "2  RetrieverQueryEngine(llama_index.core.query_en...   \n",
       "\n",
       "                                      record_id  \\\n",
       "0  record_hash_76ebc30902ecff6cbd53c2b83d89e7a4   \n",
       "1  record_hash_175e38d7adeb5be9c2f25fd242cefe24   \n",
       "2  record_hash_978c82540e9ce0a2f773943286489dcc   \n",
       "\n",
       "                                             input  \\\n",
       "0  \"What are the keys to building a career in AI?\"   \n",
       "1  \"How can teamwork contribute to success in AI?\"   \n",
       "2    \"What is the importance of networking in AI?\"   \n",
       "\n",
       "                                              output tags  \\\n",
       "0  \"The keys to building a career in AI include l...    -   \n",
       "1  \"Teamwork contributes to success in AI by enab...    -   \n",
       "2  \"Networking is crucial in AI as it enables the...    -   \n",
       "\n",
       "                                         record_json  \\\n",
       "0  {\"record_id\": \"record_hash_76ebc30902ecff6cbd5...   \n",
       "1  {\"record_id\": \"record_hash_175e38d7adeb5be9c2f...   \n",
       "2  {\"record_id\": \"record_hash_978c82540e9ce0a2f77...   \n",
       "\n",
       "                                           cost_json  \\\n",
       "0  {\"n_requests\": 1, \"n_successful_requests\": 1, ...   \n",
       "1  {\"n_requests\": 1, \"n_successful_requests\": 1, ...   \n",
       "2  {\"n_requests\": 1, \"n_successful_requests\": 1, ...   \n",
       "\n",
       "                                           perf_json  \\\n",
       "0  {\"start_time\": \"2025-01-10T21:43:52.893627\", \"...   \n",
       "1  {\"start_time\": \"2025-01-10T21:44:03.707803\", \"...   \n",
       "2  {\"start_time\": \"2025-01-10T21:44:14.528838\", \"...   \n",
       "\n",
       "                           ts  Answer Relevance  Context Relevance  \\\n",
       "0  2025-01-10T21:44:02.931425               1.0                0.7   \n",
       "1  2025-01-10T21:44:13.770304               1.0                0.7   \n",
       "2  2025-01-10T21:44:24.615395               NaN                NaN   \n",
       "\n",
       "   Groundedness                             Answer Relevance_calls  \\\n",
       "0           1.0  [{'args': {'prompt': 'What are the keys to bui...   \n",
       "1           0.6  [{'args': {'prompt': 'How can teamwork contrib...   \n",
       "2           NaN                                                NaN   \n",
       "\n",
       "                             Context Relevance_calls  \\\n",
       "0  [{'args': {'prompt': 'What are the keys to bui...   \n",
       "1  [{'args': {'prompt': 'How can teamwork contrib...   \n",
       "2                                                NaN   \n",
       "\n",
       "                                  Groundedness_calls  latency  total_tokens  \\\n",
       "0  [{'args': {'source': 'PAGE 1Founder, DeepLearn...       10          2492   \n",
       "1  [{'args': {'source': 'Class projects:\n",
       "3. Creat...       10          2392   \n",
       "2                                                NaN       10          2447   \n",
       "\n",
       "   total_cost  \n",
       "0         0.0  \n",
       "1         0.0  \n",
       "2         0.0  "
      ]
     },
     "execution_count": 13,
     "metadata": {},
     "output_type": "execute_result"
    }
   ],
   "source": [
    "records.head()"
   ]
  }
 ],
 "metadata": {
  "kernelspec": {
   "display_name": "rag_eval",
   "language": "python",
   "name": "rag_eval"
  },
  "language_info": {
   "codemirror_mode": {
    "name": "ipython",
    "version": 3
   },
   "file_extension": ".py",
   "mimetype": "text/x-python",
   "name": "python",
   "nbconvert_exporter": "python",
   "pygments_lexer": "ipython3",
   "version": "3.10.16"
  }
 },
 "nbformat": 4,
 "nbformat_minor": 5
}
